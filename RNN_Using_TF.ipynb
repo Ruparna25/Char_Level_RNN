{
 "cells": [
  {
   "cell_type": "code",
   "execution_count": 61,
   "id": "cc76fd0d-6222-4f0d-bbfc-6f146b328031",
   "metadata": {},
   "outputs": [],
   "source": [
    "#pip install TensorFlow"
   ]
  },
  {
   "cell_type": "code",
   "execution_count": 28,
   "id": "7f08177b-fee1-422b-8362-af8c5d6e85ba",
   "metadata": {},
   "outputs": [],
   "source": [
    "from keras.models import Sequential, load_model\n",
    "import tensorflow as tf\n",
    "from tensorflow import keras\n",
    "import numpy as np"
   ]
  },
  {
   "cell_type": "code",
   "execution_count": 29,
   "id": "002ecee8-a516-47c9-99f5-c9e73d5ebcd9",
   "metadata": {},
   "outputs": [],
   "source": [
    "shakespeare_url='https://homl.info/shakespeare'\n",
    "filepath=tf.keras.utils.get_file('shakespeare_txt',shakespeare_url)\n",
    "with open(filepath) as f:\n",
    "    shakespeare_txt=f.read()"
   ]
  },
  {
   "cell_type": "code",
   "execution_count": 30,
   "id": "850d84a7-d95c-4f2a-ab72-b463d84c7cdd",
   "metadata": {},
   "outputs": [
    {
     "data": {
      "text/plain": [
       "'First Citizen:\\n'"
      ]
     },
     "execution_count": 30,
     "metadata": {},
     "output_type": "execute_result"
    }
   ],
   "source": [
    "shakespeare_txt[0:15]"
   ]
  },
  {
   "cell_type": "markdown",
   "id": "e157a248-3ac9-4504-a2ef-77e4a1d6e18d",
   "metadata": {},
   "source": [
    "#Convert the text into Tokens to derive a number from each char"
   ]
  },
  {
   "cell_type": "code",
   "execution_count": 31,
   "id": "83523912-d10e-41f7-83c1-bb7fed963f69",
   "metadata": {},
   "outputs": [
    {
     "name": "stdout",
     "output_type": "stream",
     "text": [
      "[[20, 6, 9, 8, 3]]\n",
      "['f i r s t']\n",
      "39\n",
      "1\n"
     ]
    },
    {
     "data": {
      "text/plain": [
       "array([20,  6,  9,  8,  3,  1, 19,  6,  3,  6])"
      ]
     },
     "execution_count": 31,
     "metadata": {},
     "output_type": "execute_result"
    }
   ],
   "source": [
    "tokenizer_char = keras.preprocessing.text.Tokenizer(char_level=True)\n",
    "tokenizer_char.fit_on_texts([shakespeare_txt]) \n",
    "\n",
    "print(tokenizer_char.texts_to_sequences(['First']))   #On one example we use texts_to_sequences function \n",
    "\n",
    "print(tokenizer_char.sequences_to_texts([[20, 6, 9, 8, 3]]))  #On one example we use sequences_to_texts function\n",
    "\n",
    "#Number of distinct characters\n",
    "max_id = len(tokenizer_char.word_index)\n",
    "print(max_id)\n",
    "\n",
    "#number of characters\n",
    "dataset_size=tokenizer_char.document_count\n",
    "print(dataset_size)\n",
    "\n",
    "#Encoding each characters by its ID (0 to 38)\n",
    "[encoded] = np.array(tokenizer_char.texts_to_sequences([shakespeare_txt]))\n",
    "encoded[0:10]"
   ]
  },
  {
   "cell_type": "code",
   "execution_count": 10,
   "id": "970fafaf-a34e-4f7c-870c-5ba7c9794fea",
   "metadata": {},
   "outputs": [
    {
     "name": "stdout",
     "output_type": "stream",
     "text": [
      "[[88]]\n",
      "['first citizen']\n",
      "12632\n",
      "1\n"
     ]
    },
    {
     "data": {
      "text/plain": [
       "[array([  88,  269,  139, ...,   25,  131, 1828])]"
      ]
     },
     "execution_count": 10,
     "metadata": {},
     "output_type": "execute_result"
    }
   ],
   "source": [
    "tokenizer_word = keras.preprocessing.text.Tokenizer()\n",
    "tokenizer_word.fit_on_texts([shakespeare_txt]) \n",
    "\n",
    "print(tokenizer_word.texts_to_sequences(['First']))\n",
    "\n",
    "print(tokenizer_word.sequences_to_texts([[88,269]]))\n",
    "\n",
    "#Number of distinct characters\n",
    "max_id = len(tokenizer_word.word_index)\n",
    "print(max_id)\n",
    "\n",
    "#number of characters\n",
    "dataset_size=tokenizer_word.document_count\n",
    "print(dataset_size)\n",
    "\n",
    "#Encoding each word by its ID\n",
    "[encoded] = np.array(tokenizer_word.texts_to_sequences([shakespeare_txt]))\n",
    "[encoded]"
   ]
  },
  {
   "cell_type": "code",
   "execution_count": 36,
   "id": "eae2e202-4c65-4118-9659-9a470a275024",
   "metadata": {},
   "outputs": [
    {
     "data": {
      "text/plain": [
       "<PrefetchDataset element_spec=(TensorSpec(shape=(None, None, 39), dtype=tf.float32, name=None), TensorSpec(shape=(None, None), dtype=tf.int32, name=None))>"
      ]
     },
     "execution_count": 36,
     "metadata": {},
     "output_type": "execute_result"
    }
   ],
   "source": [
    "dataset_size = encoded.shape[0]\n",
    "train_size = dataset_size * 90 // 100\n",
    "dataset = tf.data.Dataset.from_tensor_slices(encoded[:train_size])\n",
    "\n",
    "#Determine the window size for each segment - First window ranges from 0 to 100, second window ranges from 1 to 101 and so on\n",
    "n_steps = 100\n",
    "window_length = n_steps + 1               #Target = Input shifted 1 character\n",
    "dataset = dataset.window(window_length, shift=1, drop_remainder= True)\n",
    "\n",
    "#Window method creates a nested dataset and so we need to use flatten map to transform it\n",
    "dataset=dataset.flat_map(lambda window: window.batch(window_length))\n",
    "\n",
    "#Gradient Descent works best when data is independent and identically distributed, so data is shuffled\n",
    "batch_size = 32\n",
    "dataset=dataset.shuffle(10000).batch(batch_size)\n",
    "\n",
    "#Divide the dataset into train and target batch window data\n",
    "dataset = dataset.map(lambda windows: (windows[:, :-1], windows[:, 1:]))\n",
    "\n",
    "#Convert the training dataset into one-hot-encoding vector\n",
    "dataset=dataset.map(lambda X_batch,y_batch: (tf.one_hot(X_batch, depth = max_id), y_batch))\n",
    "dataset = dataset.prefetch(1)\n",
    "dataset"
   ]
  },
  {
   "cell_type": "markdown",
   "id": "31c09d08-9820-4d87-a243-04a9a6a2b4fa",
   "metadata": {},
   "source": [
    "After performing all the preprocessing tasks, now we can train and compile the RNN model and start predicting the output"
   ]
  },
  {
   "cell_type": "code",
   "execution_count": null,
   "id": "df8cf8f3-55b5-4047-a233-004878de35ba",
   "metadata": {},
   "outputs": [
    {
     "name": "stdout",
     "output_type": "stream",
     "text": [
      "Model: \"sequential_13\"\n",
      "_________________________________________________________________\n",
      " Layer (type)                Output Shape              Param #   \n",
      "=================================================================\n",
      " gru_26 (GRU)                (None, None, 128)         64896     \n",
      "                                                                 \n",
      " gru_27 (GRU)                (None, None, 128)         99072     \n",
      "                                                                 \n",
      " time_distributed_13 (TimeDi  (None, None, 39)         5031      \n",
      " stributed)                                                      \n",
      "                                                                 \n",
      "=================================================================\n",
      "Total params: 168,999\n",
      "Trainable params: 168,999\n",
      "Non-trainable params: 0\n",
      "_________________________________________________________________\n",
      "Epoch 1/2\n",
      "   6630/Unknown - 509s 76ms/step - loss: 1.7466"
     ]
    }
   ],
   "source": [
    "model = keras.models.Sequential([\n",
    "    keras.layers.GRU(128, return_sequences=True, input_shape=[None, max_id],\n",
    "                     dropout=0.2),\n",
    "    keras.layers.GRU(128, return_sequences=True, dropout=0.2),\n",
    "    keras.layers.TimeDistributed(keras.layers.Dense(max_id,activation='softmax'))\n",
    "])\n",
    "model.summary()\n",
    "model.compile(loss = 'sparse_categorical_crossentropy', optimizer='adam')\n",
    "history = model.fit(dataset, epochs=2)"
   ]
  },
  {
   "cell_type": "code",
   "execution_count": null,
   "id": "37a87388-563b-47a3-bb1b-c0fa05a340a3",
   "metadata": {},
   "outputs": [],
   "source": []
  }
 ],
 "metadata": {
  "kernelspec": {
   "display_name": "Python 3 (ipykernel)",
   "language": "python",
   "name": "python3"
  },
  "language_info": {
   "codemirror_mode": {
    "name": "ipython",
    "version": 3
   },
   "file_extension": ".py",
   "mimetype": "text/x-python",
   "name": "python",
   "nbconvert_exporter": "python",
   "pygments_lexer": "ipython3",
   "version": "3.9.7"
  }
 },
 "nbformat": 4,
 "nbformat_minor": 5
}
