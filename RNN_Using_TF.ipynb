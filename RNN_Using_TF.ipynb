{
 "cells": [
  {
   "cell_type": "code",
   "execution_count": 1,
   "id": "7f08177b-fee1-422b-8362-af8c5d6e85ba",
   "metadata": {},
   "outputs": [],
   "source": [
    "from keras.models import Sequential, load_model\n",
    "import tensorflow as tf\n",
    "from tensorflow import keras\n",
    "import numpy as np"
   ]
  },
  {
   "cell_type": "code",
   "execution_count": 2,
   "id": "e0101a30",
   "metadata": {},
   "outputs": [],
   "source": [
    "device=tf.config.list_physical_devices('GPU')\n",
    "tf.config.experimental.set_memory_growth(device[0], True)"
   ]
  },
  {
   "cell_type": "code",
   "execution_count": 3,
   "id": "8e764bd7",
   "metadata": {},
   "outputs": [
    {
     "data": {
      "text/plain": [
       "[PhysicalDevice(name='/physical_device:GPU:0', device_type='GPU')]"
      ]
     },
     "execution_count": 3,
     "metadata": {},
     "output_type": "execute_result"
    }
   ],
   "source": [
    "device"
   ]
  },
  {
   "cell_type": "code",
   "execution_count": 168,
   "id": "002ecee8-a516-47c9-99f5-c9e73d5ebcd9",
   "metadata": {},
   "outputs": [],
   "source": [
    "shakespeare_url=\"https://raw.githubusercontent.com/karpathy/char-rnn/master/data/tinyshakespeare/input.txt\"\n",
    "filepath=tf.keras.utils.get_file('shakespeare_txt',shakespeare_url)\n",
    "with open(filepath) as f:\n",
    "    shakespeare_txt=f.read()"
   ]
  },
  {
   "cell_type": "code",
   "execution_count": 171,
   "id": "850d84a7-d95c-4f2a-ab72-b463d84c7cdd",
   "metadata": {},
   "outputs": [
    {
     "name": "stdout",
     "output_type": "stream",
     "text": [
      "First Citizen:\n",
      "Before we proceed any further, hear me speak.\n",
      "\n",
      "All:\n",
      "Speak, speak.\n",
      "\n",
      "First Citizen:\n",
      "You\n"
     ]
    }
   ],
   "source": [
    "print(shakespeare_txt[0:100])"
   ]
  },
  {
   "cell_type": "code",
   "execution_count": 176,
   "id": "bafa86d4",
   "metadata": {},
   "outputs": [
    {
     "data": {
      "text/plain": [
       "\"\\n !$&',-.3:;?abcdefghijklmnopqrstuvwxyz\""
      ]
     },
     "execution_count": 176,
     "metadata": {},
     "output_type": "execute_result"
    }
   ],
   "source": [
    "\"\".join(sorted(set(shakespeare_txt.lower())))"
   ]
  },
  {
   "cell_type": "markdown",
   "id": "e157a248-3ac9-4504-a2ef-77e4a1d6e18d",
   "metadata": {},
   "source": [
    "#Convert the text into Tokens to derive a number from each char"
   ]
  },
  {
   "cell_type": "code",
   "execution_count": 177,
   "id": "83523912-d10e-41f7-83c1-bb7fed963f69",
   "metadata": {},
   "outputs": [
    {
     "name": "stdout",
     "output_type": "stream",
     "text": [
      "[[20, 6, 9, 8, 3]]\n",
      "['f i r s t']\n",
      "39\n",
      "1\n"
     ]
    },
    {
     "data": {
      "text/plain": [
       "array([19,  5,  8,  7,  2,  0, 18,  5,  2,  5])"
      ]
     },
     "execution_count": 177,
     "metadata": {},
     "output_type": "execute_result"
    }
   ],
   "source": [
    "tokenizer_char = keras.preprocessing.text.Tokenizer(char_level=True)\n",
    "tokenizer_char.fit_on_texts([shakespeare_txt]) \n",
    "    \n",
    "print(tokenizer_char.texts_to_sequences(['First']))   #On one example we use texts_to_sequences function \n",
    "\n",
    "print(tokenizer_char.sequences_to_texts([[20, 6, 9, 8, 3]]))  #On one example we use sequences_to_texts function\n",
    "\n",
    "#Number of distinct characters\n",
    "max_id = len(tokenizer_char.word_index)\n",
    "print(max_id)\n",
    "\n",
    "#number of characters\n",
    "dataset_size=tokenizer_char.document_count\n",
    "print(dataset_size)\n",
    "\n",
    "#Encoding each characters by its ID (0 to 38)\n",
    "[encoded] = np.array(tokenizer_char.texts_to_sequences([shakespeare_txt]))-1\n",
    "encoded[0:10]"
   ]
  },
  {
   "cell_type": "code",
   "execution_count": 178,
   "id": "eae2e202-4c65-4118-9659-9a470a275024",
   "metadata": {},
   "outputs": [
    {
     "data": {
      "text/plain": [
       "<PrefetchDataset element_spec=(TensorSpec(shape=(None, None, 39), dtype=tf.float32, name=None), TensorSpec(shape=(None, None), dtype=tf.int32, name=None))>"
      ]
     },
     "execution_count": 178,
     "metadata": {},
     "output_type": "execute_result"
    }
   ],
   "source": [
    "dataset_size = encoded.shape[0]\n",
    "train_size = dataset_size * 90 // 100\n",
    "dataset = tf.data.Dataset.from_tensor_slices(encoded[:train_size])\n",
    "\n",
    "#Determine the window size for each segment - First window ranges from 0 to 100, second window ranges from 1 to 101 and so on\n",
    "n_steps = 100\n",
    "window_length = n_steps + 1               #Target = Input shifted 1 character\n",
    "dataset = dataset.window(window_length, shift=1, drop_remainder= True)\n",
    "\n",
    "#Window method creates a nested dataset and so we need to use flatten map to transform it\n",
    "dataset=dataset.flat_map(lambda window: window.batch(window_length))\n",
    "\n",
    "np.random.seed(42)\n",
    "tf.random.set_seed(42)\n",
    "\n",
    "#Gradient Descent works best when data is independent and identically distributed, so data is shuffled\n",
    "batch_size = 32\n",
    "dataset=dataset.shuffle(10000).batch(batch_size)\n",
    "\n",
    "#Divide the dataset into train and target batch window data\n",
    "dataset = dataset.map(lambda windows: (windows[:, :-1], windows[:, 1:]))\n",
    "\n",
    "#Convert the training dataset into one-hot-encoding vector\n",
    "dataset=dataset.map(lambda X_batch,y_batch: (tf.one_hot(X_batch, depth = max_id), y_batch))\n",
    "dataset = dataset.prefetch(1)\n",
    "dataset"
   ]
  },
  {
   "cell_type": "code",
   "execution_count": 179,
   "id": "e1aaa460-90c6-4c7f-bcec-e160eac3b10e",
   "metadata": {},
   "outputs": [
    {
     "name": "stdout",
     "output_type": "stream",
     "text": [
      "(32, 100, 39) (32, 100)\n"
     ]
    }
   ],
   "source": [
    "for X_batch, Y_batch in dataset.take(1):\n",
    "    print(X_batch.shape, Y_batch.shape)"
   ]
  },
  {
   "cell_type": "markdown",
   "id": "31c09d08-9820-4d87-a243-04a9a6a2b4fa",
   "metadata": {},
   "source": [
    "After performing all the preprocessing tasks, now we can train and compile the RNN model and start predicting the output"
   ]
  },
  {
   "cell_type": "code",
   "execution_count": 181,
   "id": "df8cf8f3-55b5-4047-a233-004878de35ba",
   "metadata": {
    "scrolled": true
   },
   "outputs": [
    {
     "name": "stdout",
     "output_type": "stream",
     "text": [
      "Model: \"sequential_3\"\n",
      "_________________________________________________________________\n",
      " Layer (type)                Output Shape              Param #   \n",
      "=================================================================\n",
      " gru_6 (GRU)                 (None, None, 128)         64896     \n",
      "                                                                 \n",
      " gru_7 (GRU)                 (None, None, 128)         99072     \n",
      "                                                                 \n",
      " time_distributed_3 (TimeDis  (None, None, 39)         5031      \n",
      " tributed)                                                       \n",
      "                                                                 \n",
      "=================================================================\n",
      "Total params: 168,999\n",
      "Trainable params: 168,999\n",
      "Non-trainable params: 0\n",
      "_________________________________________________________________\n",
      "Epoch 1/10\n",
      "31368/31368 [==============================] - 259s 8ms/step - loss: 1.6200\n",
      "Epoch 2/10\n",
      "31368/31368 [==============================] - 265s 8ms/step - loss: 1.5403\n",
      "Epoch 3/10\n",
      "31368/31368 [==============================] - 269s 9ms/step - loss: 1.5198\n",
      "Epoch 4/10\n",
      "31368/31368 [==============================] - 270s 9ms/step - loss: 1.5089\n",
      "Epoch 5/10\n",
      "31368/31368 [==============================] - 265s 8ms/step - loss: 1.5018\n",
      "Epoch 6/10\n",
      "31368/31368 [==============================] - 271s 9ms/step - loss: 1.4960\n",
      "Epoch 7/10\n",
      "31368/31368 [==============================] - 260s 8ms/step - loss: 1.4913\n",
      "Epoch 8/10\n",
      "31368/31368 [==============================] - 261s 8ms/step - loss: 1.4882\n",
      "Epoch 9/10\n",
      "31368/31368 [==============================] - 262s 8ms/step - loss: 1.4852\n",
      "Epoch 10/10\n",
      "31368/31368 [==============================] - 275s 9ms/step - loss: 1.4828\n"
     ]
    }
   ],
   "source": [
    "with tf.device('/GPU:0'):\n",
    "    model = keras.models.Sequential([\n",
    "    keras.layers.GRU(128, return_sequences=True, input_shape=[None, max_id],\n",
    "                     dropout=0.2),\n",
    "    keras.layers.GRU(128, return_sequences=True, dropout=0.2),\n",
    "    keras.layers.TimeDistributed(keras.layers.Dense(max_id,activation='softmax'))\n",
    "    ]) \n",
    "    \n",
    "    model.summary()\n",
    "    \n",
    "    model.compile(loss = 'sparse_categorical_crossentropy', optimizer='adam')\n",
    "    history = model.fit(dataset, epochs=10)\n"
   ]
  },
  {
   "cell_type": "code",
   "execution_count": 219,
   "id": "5559afdb",
   "metadata": {},
   "outputs": [
    {
     "name": "stdout",
     "output_type": "stream",
     "text": [
      "u\n",
      "t the worst.\n",
      "\n",
      "gremio:\n",
      "i pray, sir. biondello, sir, \n",
      "\n",
      "Temp 0.5\n",
      "will i she shall be obed with rich and besiders:\n",
      "th\n",
      "\n",
      "Temp 1\n",
      "wpeniom,\n",
      "that we came all the virtue hid read-fault\n",
      "\n",
      "Temp 2\n",
      "which andemen's, tres\n",
      "fo  asdour to dly beedg;\n",
      "i' a\n"
     ]
    }
   ],
   "source": [
    "def preprocess(texts):\n",
    "    X=np.array(tokenizer_char.texts_to_sequences(texts))-1\n",
    "    #print(X.shape)\n",
    "    return tf.one_hot(X,max_id)\n",
    "\n",
    "X_new = preprocess([\"How are yo\"])\n",
    "Y_pred = np.argmax(model.predict(X_new), axis=-1)\n",
    "print(tokenizer_char.sequences_to_texts(Y_pred+1)[0][-1])\n",
    "\n",
    "def next_char(text, temperature=1):\n",
    "    X_new=preprocess([text])\n",
    "    y_proba=model(X_new)[0,-1:,:]\n",
    "    rescaled_logits=tf.math.log(y_proba)/temperature\n",
    "    char_id=tf.random.categorical(rescaled_logits, num_samples=1)+1\n",
    "    return tokenizer_char.sequences_to_texts(char_id.numpy())[0]\n",
    "\n",
    "tf.random.set_seed(42)\n",
    "#print(next_char(\"How are yo\", temperature=1))\n",
    "\n",
    "def complete_text(text, n_chars=50, temperature=1):\n",
    "    for _ in range(n_chars):\n",
    "        text += next_char(text,temperature)\n",
    "    return text\n",
    "\n",
    "tf.random.set_seed(42)\n",
    "print(complete_text('t',temperature=0.2))\n",
    "print('\\nTemp 0.5')\n",
    "print(complete_text('w',temperature=0.5))\n",
    "print('\\nTemp 1')\n",
    "print(complete_text('w',temperature=1))\n",
    "print('\\nTemp 2')\n",
    "print(complete_text('w',temperature=2))"
   ]
  },
  {
   "cell_type": "code",
   "execution_count": null,
   "id": "b9205186",
   "metadata": {},
   "outputs": [],
   "source": []
  },
  {
   "cell_type": "code",
   "execution_count": 14,
   "id": "970fafaf-a34e-4f7c-870c-5ba7c9794fea",
   "metadata": {},
   "outputs": [
    {
     "name": "stdout",
     "output_type": "stream",
     "text": [
      "[[88]]\n",
      "['first citizen']\n",
      "12632\n",
      "1\n"
     ]
    },
    {
     "data": {
      "text/plain": [
       "[array([  87,  268,  138, ...,   24,  130, 1827])]"
      ]
     },
     "execution_count": 14,
     "metadata": {},
     "output_type": "execute_result"
    }
   ],
   "source": [
    "tokenizer_word = keras.preprocessing.text.Tokenizer()\n",
    "tokenizer_word.fit_on_texts([shakespeare_txt]) \n",
    "\n",
    "print(tokenizer_word.texts_to_sequences(['First']))\n",
    "\n",
    "print(tokenizer_word.sequences_to_texts([[88,269]]))\n",
    "\n",
    "#Number of distinct characters\n",
    "max_id = len(tokenizer_word.word_index)\n",
    "print(max_id)\n",
    "\n",
    "#number of characters\n",
    "dataset_size=tokenizer_word.document_count\n",
    "print(dataset_size)\n",
    "\n",
    "#Encoding each word by its ID\n",
    "[encoded] = np.array(tokenizer_word.texts_to_sequences([shakespeare_txt])) - 1\n",
    "[encoded]"
   ]
  },
  {
   "cell_type": "code",
   "execution_count": 13,
   "id": "37a87388-563b-47a3-bb1b-c0fa05a340a3",
   "metadata": {},
   "outputs": [
    {
     "name": "stdout",
     "output_type": "stream",
     "text": [
      "WARNING:tensorflow:From C:\\Users\\manju\\AppData\\Local\\Temp/ipykernel_1268/337460670.py:1: is_gpu_available (from tensorflow.python.framework.test_util) is deprecated and will be removed in a future version.\n",
      "Instructions for updating:\n",
      "Use `tf.config.list_physical_devices('GPU')` instead.\n"
     ]
    },
    {
     "data": {
      "text/plain": [
       "True"
      ]
     },
     "execution_count": 13,
     "metadata": {},
     "output_type": "execute_result"
    }
   ],
   "source": [
    "tf.test.is_gpu_available()"
   ]
  },
  {
   "cell_type": "code",
   "execution_count": 14,
   "id": "65067ee6-ca43-4f2b-a78f-44bdfecae265",
   "metadata": {},
   "outputs": [],
   "source": [
    "if not tf.config.list_physical_devices('GPU'):\n",
    "    print(\"No GPU was detected. LSTMs and CNNs can be very slow without a GPU.\")"
   ]
  },
  {
   "cell_type": "code",
   "execution_count": 3,
   "id": "c2e3ed27-5bf1-4667-bee2-0a1bd7dd6113",
   "metadata": {},
   "outputs": [
    {
     "name": "stdout",
     "output_type": "stream",
     "text": [
      "Num GPUs Available:  1\n"
     ]
    }
   ],
   "source": [
    "print(\"Num GPUs Available: \", len(tf.config.list_physical_devices('GPU')))"
   ]
  },
  {
   "cell_type": "code",
   "execution_count": null,
   "id": "87a65556-0c1d-4ee1-aec6-fa3d0faac5ad",
   "metadata": {},
   "outputs": [],
   "source": []
  }
 ],
 "metadata": {
  "kernelspec": {
   "display_name": "Python 3 (ipykernel)",
   "language": "python",
   "name": "python3"
  },
  "language_info": {
   "codemirror_mode": {
    "name": "ipython",
    "version": 3
   },
   "file_extension": ".py",
   "mimetype": "text/x-python",
   "name": "python",
   "nbconvert_exporter": "python",
   "pygments_lexer": "ipython3",
   "version": "3.9.7"
  }
 },
 "nbformat": 4,
 "nbformat_minor": 5
}
